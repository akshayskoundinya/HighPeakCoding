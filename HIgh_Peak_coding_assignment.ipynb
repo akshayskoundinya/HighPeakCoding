{
  "nbformat": 4,
  "nbformat_minor": 0,
  "metadata": {
    "colab": {
      "name": "HIgh Peak coding assignment.ipynb",
      "provenance": [],
      "collapsed_sections": []
    },
    "kernelspec": {
      "name": "python3",
      "display_name": "Python 3"
    },
    "language_info": {
      "name": "python"
    }
  },
  "cells": [
    {
      "cell_type": "code",
      "metadata": {
        "id": "LtaRkjgp0tRp"
      },
      "source": [
        "f=open('input.txt','r')"
      ],
      "execution_count": 1,
      "outputs": []
    },
    {
      "cell_type": "code",
      "metadata": {
        "id": "6jWMa3t91ER-"
      },
      "source": [
        "t=f.read()"
      ],
      "execution_count": 2,
      "outputs": []
    },
    {
      "cell_type": "code",
      "metadata": {
        "id": "5_G0-zCy1HDP"
      },
      "source": [
        "l=t.split('\\n')"
      ],
      "execution_count": 3,
      "outputs": []
    },
    {
      "cell_type": "code",
      "metadata": {
        "colab": {
          "base_uri": "https://localhost:8080/"
        },
        "id": "WSnd6juh1Kqb",
        "outputId": "4713cc3e-da8a-4521-c240-07b900ed0b8a"
      },
      "source": [
        "l"
      ],
      "execution_count": 4,
      "outputs": [
        {
          "output_type": "execute_result",
          "data": {
            "text/plain": [
              "['Fitbit Plus: 7980',\n",
              " 'IPods: 22349',\n",
              " 'MI Band: 999',\n",
              " 'Cult Pass: 2799',\n",
              " 'Macbook Pro: 229900',\n",
              " 'Digital Camera: 11101',\n",
              " 'Alexa: 9999',\n",
              " 'Sandwich Toaster: 2195',\n",
              " 'Microwave Oven: 9800',\n",
              " 'Scale: 4999']"
            ]
          },
          "metadata": {
            "tags": []
          },
          "execution_count": 4
        }
      ]
    },
    {
      "cell_type": "code",
      "metadata": {
        "id": "r6pw6xhX1L93"
      },
      "source": [
        "dic={}"
      ],
      "execution_count": 5,
      "outputs": []
    },
    {
      "cell_type": "code",
      "metadata": {
        "id": "IxDsuFma1SE3"
      },
      "source": [
        "for i in l:\n",
        "  k=i.split(\": \")\n",
        "  dic[k[0]]=int(k[1])"
      ],
      "execution_count": 6,
      "outputs": []
    },
    {
      "cell_type": "code",
      "metadata": {
        "colab": {
          "base_uri": "https://localhost:8080/"
        },
        "id": "m9naYcLE1gcI",
        "outputId": "9ac9b0e6-e304-4ac9-c84b-9b76f4e01675"
      },
      "source": [
        "dic"
      ],
      "execution_count": 7,
      "outputs": [
        {
          "output_type": "execute_result",
          "data": {
            "text/plain": [
              "{'Alexa': 9999,\n",
              " 'Cult Pass': 2799,\n",
              " 'Digital Camera': 11101,\n",
              " 'Fitbit Plus': 7980,\n",
              " 'IPods': 22349,\n",
              " 'MI Band': 999,\n",
              " 'Macbook Pro': 229900,\n",
              " 'Microwave Oven': 9800,\n",
              " 'Sandwich Toaster': 2195,\n",
              " 'Scale': 4999}"
            ]
          },
          "metadata": {
            "tags": []
          },
          "execution_count": 7
        }
      ]
    },
    {
      "cell_type": "code",
      "metadata": {
        "id": "QuNNfzCw1hS2"
      },
      "source": [
        "dicimd = sorted(dic.items(),key=lambda x:x[1],reverse=True)\n",
        "d=dicimd"
      ],
      "execution_count": 8,
      "outputs": []
    },
    {
      "cell_type": "code",
      "metadata": {
        "colab": {
          "base_uri": "https://localhost:8080/"
        },
        "id": "3dPdY4_81wb2",
        "outputId": "85707c5f-0fed-4f18-e2a3-bbba1493d9e1"
      },
      "source": [
        "d"
      ],
      "execution_count": 9,
      "outputs": [
        {
          "output_type": "execute_result",
          "data": {
            "text/plain": [
              "[('Macbook Pro', 229900),\n",
              " ('IPods', 22349),\n",
              " ('Digital Camera', 11101),\n",
              " ('Alexa', 9999),\n",
              " ('Microwave Oven', 9800),\n",
              " ('Fitbit Plus', 7980),\n",
              " ('Scale', 4999),\n",
              " ('Cult Pass', 2799),\n",
              " ('Sandwich Toaster', 2195),\n",
              " ('MI Band', 999)]"
            ]
          },
          "metadata": {
            "tags": []
          },
          "execution_count": 9
        }
      ]
    },
    {
      "cell_type": "code",
      "metadata": {
        "colab": {
          "base_uri": "https://localhost:8080/"
        },
        "id": "M3XUP4M31yEV",
        "outputId": "64952581-85d0-451a-9d27-ffcc98226313"
      },
      "source": [
        "#number of employees n\n",
        "n=int(input(\"Number of employees: \"))"
      ],
      "execution_count": 72,
      "outputs": [
        {
          "output_type": "stream",
          "text": [
            "Number of employees: 2\n"
          ],
          "name": "stdout"
        }
      ]
    },
    {
      "cell_type": "code",
      "metadata": {
        "id": "skPu6KfZ2LIL"
      },
      "source": [
        "import math\n",
        "min=[math.inf,0,0]"
      ],
      "execution_count": 73,
      "outputs": []
    },
    {
      "cell_type": "code",
      "metadata": {
        "id": "CTIA2lzP2Xo9"
      },
      "source": [
        "for i in range(len(dic)-n+1):\n",
        "  if (d[i][1]-d[i+n-1][1]) < min[0]:\n",
        "    min[0] = d[i][1]-d[i+n-1][1]\n",
        "    min[1] = i\n",
        "    min[2] = i+n-1"
      ],
      "execution_count": 74,
      "outputs": []
    },
    {
      "cell_type": "code",
      "metadata": {
        "colab": {
          "base_uri": "https://localhost:8080/"
        },
        "id": "XvMmS5Lm-pIR",
        "outputId": "5c5f6e9d-ead3-471e-ec67-22d1bcf64d9f"
      },
      "source": [
        "min"
      ],
      "execution_count": 75,
      "outputs": [
        {
          "output_type": "execute_result",
          "data": {
            "text/plain": [
              "[199, 3, 4]"
            ]
          },
          "metadata": {
            "tags": []
          },
          "execution_count": 75
        }
      ]
    },
    {
      "cell_type": "code",
      "metadata": {
        "id": "zcUTa33W_gCE"
      },
      "source": [
        "st=\"Here the goodies that are selected for distribution are:\""
      ],
      "execution_count": 76,
      "outputs": []
    },
    {
      "cell_type": "code",
      "metadata": {
        "id": "tTwP7kwd_v1w"
      },
      "source": [
        "for i in range(min[1],min[2]+1):\n",
        "  st+=\"\\n\"+d[i][0]+ ': '+str(d[i][1])"
      ],
      "execution_count": 77,
      "outputs": []
    },
    {
      "cell_type": "code",
      "metadata": {
        "id": "tmD_Z6jRAGqJ"
      },
      "source": [
        "st=st+\"\\nAnd the difference between the chosen goodie with highest price and the lowest price is \" +str(min[0])"
      ],
      "execution_count": 78,
      "outputs": []
    },
    {
      "cell_type": "code",
      "metadata": {
        "colab": {
          "base_uri": "https://localhost:8080/",
          "height": 53
        },
        "id": "oeL3WlZ2A1qq",
        "outputId": "decd14f1-e8ea-4752-fe46-ef58c79d58d4"
      },
      "source": [
        "st"
      ],
      "execution_count": 79,
      "outputs": [
        {
          "output_type": "execute_result",
          "data": {
            "application/vnd.google.colaboratory.intrinsic+json": {
              "type": "string"
            },
            "text/plain": [
              "'Here the goodies that are selected for distribution are:\\nAlexa: 9999\\nMicrowave Oven: 9800\\nAnd the difference between the chosen goodie with highest price and the lowest price is 199'"
            ]
          },
          "metadata": {
            "tags": []
          },
          "execution_count": 79
        }
      ]
    },
    {
      "cell_type": "code",
      "metadata": {
        "id": "EcLbTRrYA2Zr"
      },
      "source": [
        "f1=open(\"output.txt\",\"w\")\n",
        "f1.write(st)\n",
        "f1.close()\n",
        "f.close()"
      ],
      "execution_count": 80,
      "outputs": []
    },
    {
      "cell_type": "code",
      "metadata": {
        "id": "ShKnzcdjBLJc"
      },
      "source": [
        ""
      ],
      "execution_count": null,
      "outputs": []
    }
  ]
}